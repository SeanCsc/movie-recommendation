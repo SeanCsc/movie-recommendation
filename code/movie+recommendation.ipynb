{
 "cells": [
  {
   "cell_type": "code",
   "execution_count": 2,
   "metadata": {},
   "outputs": [
    {
     "name": "stdout",
     "output_type": "stream",
     "text": [
      "<SparkContext master=local[*] appName=PySparkShell>\n"
     ]
    }
   ],
   "source": [
    "print (sc)"
   ]
  },
  {
   "cell_type": "code",
   "execution_count": 3,
   "metadata": {
    "collapsed": true
   },
   "outputs": [],
   "source": [
    "#读取数据\n",
    "user_data = sc.textFile(\"u.data\")"
   ]
  },
  {
   "cell_type": "code",
   "execution_count": 4,
   "metadata": {},
   "outputs": [
    {
     "data": {
      "text/plain": [
       "'196\\t242\\t3\\t881250949'"
      ]
     },
     "execution_count": 4,
     "metadata": {},
     "output_type": "execute_result"
    }
   ],
   "source": [
    "user_data.first()\n"
   ]
  },
  {
   "cell_type": "code",
   "execution_count": 6,
   "metadata": {},
   "outputs": [
    {
     "name": "stdout",
     "output_type": "stream",
     "text": [
      "['196', '242', '3']\n"
     ]
    }
   ],
   "source": [
    "#数据预处理,得到RDD矩阵\n",
    "rates = user_data.map(lambda x:x.split(\"\\t\")[0:3])\n",
    "print (rates.first())"
   ]
  },
  {
   "cell_type": "code",
   "execution_count": 10,
   "metadata": {},
   "outputs": [
    {
     "data": {
      "text/plain": [
       "Rating(user=196, product=242, rating=3.0)"
      ]
     },
     "execution_count": 10,
     "metadata": {},
     "output_type": "execute_result"
    }
   ],
   "source": [
    "from pyspark.mllib.recommendation import Rating\n",
    "rates_data = rates.map(lambda x: Rating(int(x[0]),int(x[1]),int(x[2])))\n",
    "#得到基于Rating的RDD类"
   ]
  },
  {
   "cell_type": "code",
   "execution_count": 19,
   "metadata": {},
   "outputs": [
    {
     "data": {
      "text/plain": [
       "1.5539648420885255"
      ]
     },
     "execution_count": 19,
     "metadata": {},
     "output_type": "execute_result"
    }
   ],
   "source": [
    "model.predict(38,20)"
   ]
  },
  {
   "cell_type": "code",
   "execution_count": 18,
   "metadata": {},
   "outputs": [],
   "source": [
    "from pyspark.mllib.recommendation import ALS\n",
    "#from pyspark.mllib.recommendation import MatrixFactorizatonModel\n",
    "sc.setCheckpointDir('checkpoint/')\n",
    "ALS.checkpointInterval = 2\n",
    "model = ALS.train(ratings = rates_data,rank = 10,iterations = 5,lambda_ = 0.02)"
   ]
  },
  {
   "cell_type": "code",
   "execution_count": 20,
   "metadata": {},
   "outputs": [
    {
     "data": {
      "text/plain": [
       "[Rating(user=38, product=1121, rating=7.203665637486273),\n",
       " Rating(user=38, product=1218, rating=7.028669001939996),\n",
       " Rating(user=38, product=885, rating=6.9405802917050305),\n",
       " Rating(user=38, product=309, rating=6.899849560123686),\n",
       " Rating(user=38, product=954, rating=6.8884928662478675),\n",
       " Rating(user=38, product=267, rating=6.843089610952102),\n",
       " Rating(user=38, product=138, rating=6.815829260746403),\n",
       " Rating(user=38, product=1294, rating=6.603770791966623),\n",
       " Rating(user=38, product=1286, rating=6.59805826851556),\n",
       " Rating(user=38, product=905, rating=6.521436770405321)]"
      ]
     },
     "execution_count": 20,
     "metadata": {},
     "output_type": "execute_result"
    }
   ],
   "source": [
    "model.recommendProducts(38,10)"
   ]
  },
  {
   "cell_type": "code",
   "execution_count": null,
   "metadata": {
    "collapsed": true
   },
   "outputs": [],
   "source": []
  }
 ],
 "metadata": {
  "kernelspec": {
   "display_name": "Python [Root]",
   "language": "python",
   "name": "Python [Root]"
  },
  "language_info": {
   "codemirror_mode": {
    "name": "ipython",
    "version": 3
   },
   "file_extension": ".py",
   "mimetype": "text/x-python",
   "name": "python",
   "nbconvert_exporter": "python",
   "pygments_lexer": "ipython3",
   "version": "3.5.4"
  }
 },
 "nbformat": 4,
 "nbformat_minor": 1
}
